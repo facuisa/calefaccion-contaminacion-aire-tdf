{
 "cells": [
  {
   "cell_type": "code",
   "execution_count": 8,
   "id": "1abc9724-c27c-4927-94e2-b22b33ec87d0",
   "metadata": {},
   "outputs": [
    {
     "name": "stdout",
     "output_type": "stream",
     "text": [
      "Archivos cargados correctamente.\n"
     ]
    }
   ],
   "source": [
    "# CARGA DE DATOS \n",
    "# Cargamos los CSV desde la carpeta /data/raw.\n",
    "\n",
    "import pandas as pd\n",
    "\n",
    "df_pm10 = pd.read_csv('../data/raw/pm 10 coyhaique (extended).csv', sep=';', encoding='latin1', engine='python')\n",
    "df_pm25 = pd.read_csv('../data/raw/pm 2.5 coyhaique.csv', sep=';')\n",
    "df_co = pd.read_csv('../data/raw/CO coyhaique.csv', sep=';')\n",
    "df_so2 = pd.read_csv('../data/raw/SO2 coyahique.csv', sep=';')\n",
    "df_meteo = pd.read_csv('../data/raw/export (extended).csv')\n",
    "df_umbrales = pd.read_csv('../data/raw/umbrales_pm10.csv', sep=';')\n",
    "\n",
    "print(\"Archivos cargados correctamente.\")"
   ]
  },
  {
   "cell_type": "markdown",
   "id": "d03afa68-4d04-4c58-889a-70b711ce89d5",
   "metadata": {},
   "source": [
    "# Crear funciones de preprocesamiento"
   ]
  },
  {
   "cell_type": "code",
   "execution_count": 9,
   "id": "f04ed02a-717f-4846-a1e0-3c99a3e5b774",
   "metadata": {},
   "outputs": [],
   "source": [
    "# src/data/processing.py\n",
    "\n",
    "import pandas as pd\n",
    "\n",
    "def procesar_contaminante(df, nombre_col, decimal_coma=False):\n",
    "    df = df.drop(columns=['Registros preliminares', 'Registros no validados', 'Unnamed: 5'], errors='ignore')\n",
    "    if decimal_coma:\n",
    "        df['Registros validados'] = df['Registros validados'].str.replace(',', '.').astype(float)\n",
    "    else:\n",
    "        df['Registros validados'] = pd.to_numeric(df['Registros validados'], errors='coerce')\n",
    "    df['FECHA_HORA'] = pd.to_datetime(df['FECHA (YYMMDD)'].astype(str) + df['HORA (HHMM)'].astype(str).str.zfill(4), format='%y%m%d%H%M')\n",
    "    df = df.set_index('FECHA_HORA')\n",
    "\n",
    "    nulls = df[df['Registros validados'].isnull()]\n",
    "    nulos_por_dia = nulls.groupby(nulls.index.date).size()\n",
    "    dias_completos = nulos_por_dia[nulos_por_dia == 24].index.tolist()\n",
    "    mask = [date not in dias_completos for date in df.index.date]\n",
    "    df = df[mask]\n",
    "\n",
    "    df['Registros validados'] = df['Registros validados'].interpolate(method='time')\n",
    "    return df.rename(columns={'Registros validados': nombre_col})[[nombre_col]]\n",
    "\n",
    "def procesar_meteorologia(df):\n",
    "    df['date'] = pd.to_datetime(df['date'])\n",
    "    df = df[['date', 'tmin', 'tavg', 'tmax', 'prcp', 'wspd', 'pres']]\n",
    "    df = df.set_index('date')\n",
    "    df = df.interpolate(method='time')\n",
    "    return df"
   ]
  },
  {
   "cell_type": "code",
   "execution_count": 11,
   "id": "ec7fe798-7eef-426b-947a-67674394cdd2",
   "metadata": {},
   "outputs": [
    {
     "ename": "ModuleNotFoundError",
     "evalue": "No module named 'src'",
     "output_type": "error",
     "traceback": [
      "\u001b[1;31m---------------------------------------------------------------------------\u001b[0m",
      "\u001b[1;31mModuleNotFoundError\u001b[0m                       Traceback (most recent call last)",
      "Cell \u001b[1;32mIn[11], line 1\u001b[0m\n\u001b[1;32m----> 1\u001b[0m \u001b[38;5;28;01mfrom\u001b[39;00m \u001b[38;5;21;01msrc\u001b[39;00m\u001b[38;5;21;01m.\u001b[39;00m\u001b[38;5;21;01mdata\u001b[39;00m\u001b[38;5;21;01m.\u001b[39;00m\u001b[38;5;21;01mprocessing\u001b[39;00m \u001b[38;5;28;01mimport\u001b[39;00m procesar_contaminante, procesar_meteorologia\n\u001b[0;32m      2\u001b[0m \u001b[38;5;28;01mimport\u001b[39;00m \u001b[38;5;21;01mpandas\u001b[39;00m \u001b[38;5;28;01mas\u001b[39;00m \u001b[38;5;21;01mpd\u001b[39;00m\n\u001b[0;32m      4\u001b[0m \u001b[38;5;66;03m# Carga de archivos\u001b[39;00m\n",
      "\u001b[1;31mModuleNotFoundError\u001b[0m: No module named 'src'"
     ]
    }
   ],
   "source": [
    "from src.data.processing import procesar_contaminante, procesar_meteorologia\n",
    "import pandas as pd\n",
    "\n",
    "# Carga de archivos\n",
    "df_pm10 = pd.read_csv('../data/raw/pm 10 coyhaique (extended).csv', sep=';', encoding='latin1', engine='python')\n",
    "df_pm25 = pd.read_csv('../data/raw/pm 2.5 coyhaique.csv', sep=';')\n",
    "df_co = pd.read_csv('../data/raw/CO coyhaique.csv', sep=';')\n",
    "df_so2 = pd.read_csv('../data/raw/SO2 coyahique.csv', sep=';')\n",
    "df_meteo = pd.read_csv('../data/raw/export (extended).csv')\n",
    "df_umbrales = pd.read_csv('../data/raw/umbrales_pm10.csv', sep=';')\n",
    "\n",
    "# Procesamiento\n",
    "df_pm10 = procesar_contaminante(df_pm10, 'PM10')\n",
    "df_pm25 = procesar_contaminante(df_pm25, 'PM2.5')\n",
    "df_co = procesar_contaminante(df_co, 'CO', decimal_coma=True)\n",
    "df_so2 = procesar_contaminante(df_so2, 'SO2')\n",
    "df_meteo = procesar_meteorologia(df_meteo)"
   ]
  },
  {
   "cell_type": "code",
   "execution_count": 12,
   "id": "f249fb3d-21fe-4bb0-b805-866446ea113a",
   "metadata": {},
   "outputs": [
    {
     "ename": "ImportError",
     "evalue": "cannot import name 'procesar_contaminante' from 'data.processing' (C:\\Users\\PC\\Documents\\Git-Hub\\prediccion contaminacion del aire por calefaccion\\calefaccion-contaminacion-aire-tdf\\src\\data\\processing.py)",
     "output_type": "error",
     "traceback": [
      "\u001b[1;31m---------------------------------------------------------------------------\u001b[0m",
      "\u001b[1;31mImportError\u001b[0m                               Traceback (most recent call last)",
      "Cell \u001b[1;32mIn[12], line 11\u001b[0m\n\u001b[0;32m      8\u001b[0m     sys\u001b[38;5;241m.\u001b[39mpath\u001b[38;5;241m.\u001b[39mappend(src_path)\n\u001b[0;32m     10\u001b[0m \u001b[38;5;66;03m# 🔹 IMPORTAR FUNCIONES DEL MÓDULO DE PROCESAMIENTO\u001b[39;00m\n\u001b[1;32m---> 11\u001b[0m \u001b[38;5;28;01mfrom\u001b[39;00m \u001b[38;5;21;01mdata\u001b[39;00m\u001b[38;5;21;01m.\u001b[39;00m\u001b[38;5;21;01mprocessing\u001b[39;00m \u001b[38;5;28;01mimport\u001b[39;00m procesar_contaminante, procesar_meteorologia, unir_datasets\n",
      "\u001b[1;31mImportError\u001b[0m: cannot import name 'procesar_contaminante' from 'data.processing' (C:\\Users\\PC\\Documents\\Git-Hub\\prediccion contaminacion del aire por calefaccion\\calefaccion-contaminacion-aire-tdf\\src\\data\\processing.py)"
     ]
    }
   ],
   "source": [
    "import sys\n",
    "import os\n",
    "import pandas as pd\n",
    "\n",
    "# Ruta relativa desde el notebook a la carpeta src/\n",
    "src_path = os.path.abspath(os.path.join('..', 'src'))\n",
    "if src_path not in sys.path:\n",
    "    sys.path.append(src_path)\n",
    "\n",
    "# 🔹 IMPORTAR FUNCIONES DEL MÓDULO DE PROCESAMIENTO\n",
    "from data.processing import procesar_contaminante, procesar_meteorologia, unir_datasets"
   ]
  },
  {
   "cell_type": "code",
   "execution_count": null,
   "id": "af274d61-f744-4d99-8294-72a130b24f8e",
   "metadata": {},
   "outputs": [],
   "source": []
  }
 ],
 "metadata": {
  "kernelspec": {
   "display_name": "Python 3 (ipykernel)",
   "language": "python",
   "name": "python3"
  },
  "language_info": {
   "codemirror_mode": {
    "name": "ipython",
    "version": 3
   },
   "file_extension": ".py",
   "mimetype": "text/x-python",
   "name": "python",
   "nbconvert_exporter": "python",
   "pygments_lexer": "ipython3",
   "version": "3.12.3"
  }
 },
 "nbformat": 4,
 "nbformat_minor": 5
}
