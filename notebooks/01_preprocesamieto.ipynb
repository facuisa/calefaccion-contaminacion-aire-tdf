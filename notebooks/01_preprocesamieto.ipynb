{
 "cells": [
  {
   "cell_type": "code",
   "execution_count": 13,
   "id": "1abc9724-c27c-4927-94e2-b22b33ec87d0",
   "metadata": {},
   "outputs": [
    {
     "name": "stdout",
     "output_type": "stream",
     "text": [
      "Archivos cargados correctamente.\n"
     ]
    }
   ],
   "source": [
    "# CARGA DE DATOS \n",
    "# Cargamos los CSV desde la carpeta /data/raw.\n",
    "\n",
    "import pandas as pd\n",
    "\n",
    "df_pm10 = pd.read_csv('../data/raw/pm 10 coyhaique (extended).csv', sep=';', encoding='latin1', engine='python')\n",
    "df_pm25 = pd.read_csv('../data/raw/pm 2.5 coyhaique.csv', sep=';')\n",
    "df_co = pd.read_csv('../data/raw/CO coyhaique.csv', sep=';')\n",
    "df_so2 = pd.read_csv('../data/raw/SO2 coyahique.csv', sep=';')\n",
    "df_meteo = pd.read_csv('../data/raw/export (extended).csv')\n",
    "df_umbrales = pd.read_csv('../data/raw/umbrales_pm10.csv', sep=';')\n",
    "\n",
    "print(\"Archivos cargados correctamente.\")"
   ]
  },
  {
   "cell_type": "markdown",
   "id": "f72a797b-e197-4459-b7db-695a9e680f46",
   "metadata": {},
   "source": [
    "# Importamos Funciones de preprocesamiento "
   ]
  },
  {
   "cell_type": "code",
   "execution_count": 15,
   "id": "f249fb3d-21fe-4bb0-b805-866446ea113a",
   "metadata": {},
   "outputs": [],
   "source": [
    "# Permitir importar desde la carpeta src/\n",
    "import sys\n",
    "import os\n",
    "\n",
    "src_path = os.path.abspath(os.path.join('..', 'src'))\n",
    "if src_path not in sys.path:\n",
    "    sys.path.append(src_path)\n",
    "\n",
    "# importar\n",
    "from data.processing import procesar_contaminante, procesar_meteorologia"
   ]
  },
  {
   "cell_type": "code",
   "execution_count": 19,
   "id": "4f13ab69-6ea0-482e-b849-6038518956c9",
   "metadata": {},
   "outputs": [
    {
     "ename": "ImportError",
     "evalue": "cannot import name 'unir_datasets' from 'data.processing' (C:\\Users\\PC\\Documents\\Git-Hub\\prediccion contaminacion del aire por calefaccion\\calefaccion-contaminacion-aire-tdf\\src\\data\\processing.py)",
     "output_type": "error",
     "traceback": [
      "\u001b[1;31m---------------------------------------------------------------------------\u001b[0m",
      "\u001b[1;31mImportError\u001b[0m                               Traceback (most recent call last)",
      "Cell \u001b[1;32mIn[19], line 2\u001b[0m\n\u001b[0;32m      1\u001b[0m \u001b[38;5;66;03m# 🔹 IMPORTAMOS también las funciones nuevas\u001b[39;00m\n\u001b[1;32m----> 2\u001b[0m \u001b[38;5;28;01mfrom\u001b[39;00m \u001b[38;5;21;01mdata\u001b[39;00m\u001b[38;5;21;01m.\u001b[39;00m\u001b[38;5;21;01mprocessing\u001b[39;00m \u001b[38;5;28;01mimport\u001b[39;00m procesar_contaminante, procesar_meteorologia, unir_datasets\n\u001b[0;32m      4\u001b[0m \u001b[38;5;66;03m# 🔹 PROCESAMOS Y UNIMOS LOS DATOS\u001b[39;00m\n\u001b[0;32m      5\u001b[0m df_total \u001b[38;5;241m=\u001b[39m unir_datasets(df_pm10, df_pm25, df_co, df_so2, df_meteo, df_umbrales)\n",
      "\u001b[1;31mImportError\u001b[0m: cannot import name 'unir_datasets' from 'data.processing' (C:\\Users\\PC\\Documents\\Git-Hub\\prediccion contaminacion del aire por calefaccion\\calefaccion-contaminacion-aire-tdf\\src\\data\\processing.py)"
     ]
    }
   ],
   "source": [
    "# 🔹 IMPORTAMOS también las funciones nuevas\n",
    "from data.processing import procesar_contaminante, procesar_meteorologia, unir_datasets\n",
    "\n",
    "# 🔹 PROCESAMOS Y UNIMOS LOS DATOS\n",
    "df_total = unir_datasets(df_pm10, df_pm25, df_co, df_so2, df_meteo, df_umbrales)\n",
    "\n",
    "# 🔎 VERIFICAMOS LA SALIDA\n",
    "print(\"✅ Dataset final unificado con forma:\", df_total.shape)\n",
    "print(\"Columnas disponibles:\", df_total.columns.tolist())\n",
    "print(\"Distribución de clases de riesgo:\")\n",
    "print(df_total['Riesgo'].value_counts())\n"
   ]
  },
  {
   "cell_type": "markdown",
   "id": "38dd9a8b-31a3-4c6e-8e12-49d35a07629a",
   "metadata": {},
   "source": [
    "from data.processing import procesar_contaminante, procesar_meteorologia, unir_datasets\n",
    "\n",
    "# 🔹 PROCESAMOS Y UNIMOS LOS DATOS\n",
    "df_total = unir_datasets(df_pm10, df_pm25, df_co, df_so2, df_meteo, df_umbrales)\n",
    "\n",
    "# 🔎 VERIFICAMOS LA SALIDA\n",
    "print(\"✅ Dataset final unificado con forma:\", df_total.shape)\n",
    "print(\"Columnas disponibles:\", df_total.columns.tolist())\n",
    "print(\"Distribución de clases de riesgo:\")\n",
    "print(df_total['Riesgo'].value_counts())"
   ]
  },
  {
   "cell_type": "code",
   "execution_count": null,
   "id": "e8596e22-42c7-4a44-87ca-598b32399716",
   "metadata": {},
   "outputs": [],
   "source": []
  }
 ],
 "metadata": {
  "kernelspec": {
   "display_name": "Python 3 (ipykernel)",
   "language": "python",
   "name": "python3"
  },
  "language_info": {
   "codemirror_mode": {
    "name": "ipython",
    "version": 3
   },
   "file_extension": ".py",
   "mimetype": "text/x-python",
   "name": "python",
   "nbconvert_exporter": "python",
   "pygments_lexer": "ipython3",
   "version": "3.12.3"
  }
 },
 "nbformat": 4,
 "nbformat_minor": 5
}
