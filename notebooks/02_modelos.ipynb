{
 "cells": [
  {
   "cell_type": "code",
   "execution_count": 2,
   "id": "7dd86571-e2ab-439d-8e94-1a4033442389",
   "metadata": {},
   "outputs": [],
   "source": [
    "import sys\n",
    "import os\n",
    "\n",
    "src_path = os.path.abspath(os.path.join('..', 'src'))\n",
    "if src_path not in sys.path:\n",
    "    sys.path.append(src_path)\n",
    "    "
   ]
  },
  {
   "cell_type": "code",
   "execution_count": null,
   "id": "eea4e633-2a5d-419c-b62f-51d079dd87b9",
   "metadata": {},
   "outputs": [],
   "source": [
    "from models.training import entrenar_modelos"
   ]
  },
  {
   "cell_type": "code",
   "execution_count": null,
   "id": "29a29f6d-cc2c-46b1-b8a9-2c4565467c53",
   "metadata": {},
   "outputs": [],
   "source": [
    "# IMPORTAMOS funciones\n",
    "from data.processing import procesar_contaminante, procesar_meteorologia, unir_datasets\n",
    "\n",
    "# CARGAMOS LOS DATOS CRUDOS\n",
    "import pandas as pd\n",
    "df_pm10 = pd.read_csv('../data/raw/pm 10 coyhaique (extended).csv', sep=';', encoding='latin1', engine='python')\n",
    "df_pm25 = pd.read_csv('../data/raw/pm 2.5 coyhaique.csv', sep=';')\n",
    "df_co = pd.read_csv('../data/raw/CO coyhaique.csv', sep=';')\n",
    "df_so2 = pd.read_csv('../data/raw/SO2 coyahique.csv', sep=';')\n",
    "df_meteo = pd.read_csv('../data/raw/export (extended).csv')\n",
    "df_umbrales = pd.read_csv('../data/raw/umbrales_pm10.csv', sep=';')\n",
    "\n",
    "# PROCESAMOS Y UNIMOS\n",
    "df_pm10 = procesar_contaminante(df_pm10, 'PM10')\n",
    "df_pm25 = procesar_contaminante(df_pm25, 'PM2.5')\n",
    "df_co = procesar_contaminante(df_co, 'CO', decimal_coma=True)\n",
    "df_so2 = procesar_contaminante(df_so2, 'SO2')\n",
    "df_meteo = procesar_meteorologia(df_meteo)\n",
    "df_total = unir_datasets(df_pm10, df_pm25, df_co, df_so2, df_meteo, df_umbrales)"
   ]
  },
  {
   "cell_type": "code",
   "execution_count": null,
   "id": "fb80e824-8ca9-41c8-bd6c-0d899cf77a10",
   "metadata": {},
   "outputs": [],
   "source": [
    "\n",
    "# ENTRENAR LOS MODELOS\n",
    "dt_model, rf_model, resultados = entrenar_modelos(df_total)\n",
    "\n",
    "# VER RESULTADOS\n",
    "print(\"Accuracy Árbol de Decisión:\", resultados['accuracy_dt'])\n",
    "print(\"Accuracy Random Forest:\", resultados['accuracy_rf'])\n",
    "\n",
    "# Matriz de confusión y F1 por clase\n",
    "import seaborn as sns\n",
    "import matplotlib.pyplot as plt\n",
    "\n",
    "conf = resultados['confusion_rf']\n",
    "etiquetas = resultados['label_encoder'].classes_\n",
    "\n",
    "sns.heatmap(conf, annot=True, fmt='d', cmap='Blues', xticklabels=etiquetas, yticklabels=etiquetas)\n",
    "plt.title(\"Matriz de Confusión - Random Forest\")\n",
    "plt.xlabel(\"Predicho\")\n",
    "plt.ylabel(\"Real\")\n",
    "plt.tight_layout()\n",
    "plt.show()\n"
   ]
  },
  {
   "cell_type": "code",
   "execution_count": null,
   "id": "9b9ef4b5-21ab-4978-8f31-1295799169ae",
   "metadata": {},
   "outputs": [],
   "source": [
    "from sklearn.metrics import classification_report, f1_score\n",
    "\n",
    "y_true = resultados['y_test']\n",
    "y_pred = resultados['y_pred_rf']\n",
    "\n",
    "print(classification_report(y_true, y_pred, target_names=resultados['label_encoder'].classes_))\n",
    "print(\"F1-score (ponderado):\", f1_score(y_true, y_pred, average='weighted'))"
   ]
  },
  {
   "cell_type": "code",
   "execution_count": null,
   "id": "7f00e83c-bafa-4757-a08c-109c5f129ae0",
   "metadata": {},
   "outputs": [],
   "source": [
    "# 🔁 Forzar recarga del módulo\n",
    "import importlib\n",
    "import models.training\n",
    "importlib.reload(models.training)"
   ]
  },
  {
   "cell_type": "code",
   "execution_count": null,
   "id": "dbfd3760-68df-46d6-9ad4-05cd500c9277",
   "metadata": {},
   "outputs": [],
   "source": [
    "from models.training import entrenar_modelos\n",
    "dt_model, rf_model, resultados = entrenar_modelos(df_total)\n"
   ]
  },
  {
   "cell_type": "code",
   "execution_count": null,
   "id": "9bcc23e7-6cf1-45eb-b69a-75087baa8f91",
   "metadata": {},
   "outputs": [],
   "source": [
    "import joblib\n",
    "\n",
    "# Guardar modelo entrenado\n",
    "joblib.dump(rf_model, '../models/random_forest_model.pkl')\n",
    "joblib.dump(dt_model, '../models/decision_tree_model.pkl')"
   ]
  },
  {
   "cell_type": "code",
   "execution_count": null,
   "id": "079419c0-29dc-4ac7-8c8d-c1a74a47736c",
   "metadata": {},
   "outputs": [],
   "source": [
    "import json\n",
    "\n",
    "metricas = {\n",
    "    \"accuracy_dt\": resultados['accuracy_dt'],\n",
    "    \"accuracy_rf\": resultados['accuracy_rf'],\n",
    "    \"f1_score_rf\": resultados['f1_rf']\n",
    "}\n",
    "\n",
    "with open('../reports/metricas_modelo.json', 'w') as f:\n",
    "    json.dump(metricas, f, indent=4)"
   ]
  },
  {
   "cell_type": "markdown",
   "id": "e0d737f7-0127-4760-865e-029a94d19f26",
   "metadata": {},
   "source": [
    "# Prueba\n"
   ]
  },
  {
   "cell_type": "code",
   "execution_count": 12,
   "id": "9ad679fa-0644-48c8-bd36-5d1df1fdcba0",
   "metadata": {},
   "outputs": [
    {
     "ename": "ModuleNotFoundError",
     "evalue": "No module named 'src'",
     "output_type": "error",
     "traceback": [
      "\u001b[1;31m---------------------------------------------------------------------------\u001b[0m",
      "\u001b[1;31mModuleNotFoundError\u001b[0m                       Traceback (most recent call last)",
      "Cell \u001b[1;32mIn[12], line 1\u001b[0m\n\u001b[1;32m----> 1\u001b[0m \u001b[38;5;28;01mfrom\u001b[39;00m \u001b[38;5;21;01msrc\u001b[39;00m\u001b[38;5;21;01m.\u001b[39;00m\u001b[38;5;21;01mdata\u001b[39;00m\u001b[38;5;21;01m.\u001b[39;00m\u001b[38;5;21;01mloading\u001b[39;00m \u001b[38;5;28;01mimport\u001b[39;00m load_pm10, load_pm25, load_co, load_so2, load_meteo, load_umbrales_pm10\n\u001b[0;32m      3\u001b[0m df_pm10 \u001b[38;5;241m=\u001b[39m load_pm10()\n\u001b[0;32m      4\u001b[0m df_pm25 \u001b[38;5;241m=\u001b[39m load_pm25()\n",
      "\u001b[1;31mModuleNotFoundError\u001b[0m: No module named 'src'"
     ]
    }
   ],
   "source": [
    "from src.data.loading import load_pm10, load_pm25, load_co, load_so2, load_meteo, load_umbrales_pm10\n",
    "\n",
    "df_pm10 = load_pm10()\n",
    "df_pm25 = load_pm25()\n",
    "df_co = load_co()\n",
    "df_so2 = load_so2()\n",
    "df_meteo = load_meteo()\n",
    "umbrales_df = load_umbrales_pm10()"
   ]
  },
  {
   "cell_type": "code",
   "execution_count": 13,
   "id": "e03a4356-bfb2-4e6a-85e5-6c2daa6b22b9",
   "metadata": {},
   "outputs": [
    {
     "ename": "ModuleNotFoundError",
     "evalue": "No module named 'src'",
     "output_type": "error",
     "traceback": [
      "\u001b[1;31m---------------------------------------------------------------------------\u001b[0m",
      "\u001b[1;31mModuleNotFoundError\u001b[0m                       Traceback (most recent call last)",
      "Cell \u001b[1;32mIn[13], line 7\u001b[0m\n\u001b[0;32m      4\u001b[0m \u001b[38;5;28;01mimport\u001b[39;00m \u001b[38;5;21;01mpandas\u001b[39;00m \u001b[38;5;28;01mas\u001b[39;00m \u001b[38;5;21;01mpd\u001b[39;00m\n\u001b[0;32m      6\u001b[0m \u001b[38;5;66;03m# ==== 1. CARGA DE DATOS RAW ====\u001b[39;00m\n\u001b[1;32m----> 7\u001b[0m \u001b[38;5;28;01mfrom\u001b[39;00m \u001b[38;5;21;01msrc\u001b[39;00m\u001b[38;5;21;01m.\u001b[39;00m\u001b[38;5;21;01mdata\u001b[39;00m\u001b[38;5;21;01m.\u001b[39;00m\u001b[38;5;21;01mload_data\u001b[39;00m \u001b[38;5;28;01mimport\u001b[39;00m (\n\u001b[0;32m      8\u001b[0m     load_pm10, load_pm25, load_co, load_so2,\n\u001b[0;32m      9\u001b[0m     load_meteo, load_umbrales_pm10\n\u001b[0;32m     10\u001b[0m )\n\u001b[0;32m     12\u001b[0m \u001b[38;5;66;03m# ==== 2. PREPROCESAMIENTO ====\u001b[39;00m\n\u001b[0;32m     13\u001b[0m \u001b[38;5;28;01mfrom\u001b[39;00m \u001b[38;5;21;01msrc\u001b[39;00m\u001b[38;5;21;01m.\u001b[39;00m\u001b[38;5;21;01mdata\u001b[39;00m\u001b[38;5;21;01m.\u001b[39;00m\u001b[38;5;21;01mpreprocess_data\u001b[39;00m \u001b[38;5;28;01mimport\u001b[39;00m (\n\u001b[0;32m     14\u001b[0m     clean_pm10, clean_pm25, clean_co,\n\u001b[0;32m     15\u001b[0m     clean_so2, clean_meteo\n\u001b[0;32m     16\u001b[0m )\n",
      "\u001b[1;31mModuleNotFoundError\u001b[0m: No module named 'src'"
     ]
    }
   ],
   "source": [
    "# src/main.py\n",
    "\n",
    "import os\n",
    "import pandas as pd\n",
    "\n",
    "# ==== 1. CARGA DE DATOS RAW ====\n",
    "from src.data.load_data import (\n",
    "    load_pm10, load_pm25, load_co, load_so2,\n",
    "    load_meteo, load_umbrales_pm10\n",
    ")\n",
    "\n",
    "# ==== 2. PREPROCESAMIENTO ====\n",
    "from src.data.preprocess_data import (\n",
    "    clean_pm10, clean_pm25, clean_co,\n",
    "    clean_so2, clean_meteo\n",
    ")\n",
    "\n",
    "# ==== 3. INGENIERÍA DE FEATURES ====\n",
    "from src.features.build_features import (\n",
    "    agregar_riesgo, unir_contaminantes, agregar_meteorologia\n",
    ")\n",
    "\n",
    "# ==== 4. VISUALIZACIÓN ====\n",
    "from src.visualization.visualize import (\n",
    "    plot_histograms, plot_boxplots_vs_riesgo, plot_correlation_matrix\n",
    ")\n",
    "\n",
    "# ==== 5. MODELADO ====\n",
    "from src.models.train_model import (\n",
    "    preparar_datos, escalar_datos,\n",
    "    entrenar_gridsearch, evaluar_modelo,\n",
    "    comparar_modelos\n",
    ")\n",
    "\n",
    "from sklearn.tree import DecisionTreeClassifier\n",
    "from sklearn.ensemble import RandomForestClassifier\n",
    "\n",
    "\n",
    "def main():\n",
    "\n",
    "    print(\"\\n🚀 Iniciando pipeline completo...\\n\")\n",
    "\n",
    "    # === RUTAS ===\n",
    "    data_path = 'data/raw/'\n",
    "    umbrales_path = os.path.join(data_path, 'umbrales_pm10.csv')\n",
    "\n",
    "    # === CARGA ===\n",
    "    df_pm10 = load_pm10(os.path.join(data_path, 'pm 10 coyhaique (extended).csv'))\n",
    "    df_pm25 = load_pm25(os.path.join(data_path, 'pm 2.5 coyhaique.csv'))\n",
    "    df_co = load_co(os.path.join(data_path, 'CO coyhaique.csv'))\n",
    "    df_so2 = load_so2(os.path.join(data_path, 'SO2 coyahique.csv'))\n",
    "    df_meteo = load_meteo(os.path.join(data_path, 'export (extended).csv'))\n",
    "    umbrales_df = load_umbrales_pm10(umbrales_path)\n",
    "\n",
    "    print(\"✅ Archivos cargados\")\n",
    "\n",
    "    # === LIMPIEZA ===\n",
    "    df_pm10 = clean_pm10(df_pm10)\n",
    "    df_pm25 = clean_pm25(df_pm25)\n",
    "    df_co = clean_co(df_co)\n",
    "    df_so2 = clean_so2(df_so2)\n",
    "    df_meteo = clean_meteo(df_meteo)\n",
    "\n",
    "    print(\"🧹 Datos limpiados\")\n",
    "\n",
    "    # === FEATURES ===\n",
    "    df_pm10 = agregar_riesgo(df_pm10, umbrales_df)\n",
    "    df_total = unir_contaminantes(df_pm10, df_pm25, df_co, df_so2)\n",
    "    df_total = agregar_meteorologia(df_total, df_meteo)\n",
    "\n",
    "    print(f\"🧩 Dataset final generado: {df_total.shape[0]} registros, {df_total.shape[1]} columnas\")\n",
    "\n",
    "    # === VISUALIZACIONES (opcional) ===\n",
    "    print(\"\\n📊 Generando visualizaciones...\")\n",
    "    plot_histograms(df_total)\n",
    "    plot_boxplots_vs_riesgo(df_total, ['PM2.5', 'CO', 'tavg', 'tmin', 'tmax', 'wspd'])\n",
    "    plot_correlation_matrix(df_total)\n",
    "\n",
    "    # === MODELADO ===\n",
    "    print(\"\\n🤖 Preparando datos para modelado...\")\n",
    "    X, y, le = preparar_datos(df_total)\n",
    "    X_train, X_test, y_train, y_test = escalar_datos(X, y)\n",
    "\n",
    "    # Árbol de Decisión\n",
    "    print(\"\\n🌳 Entrenando Árbol de Decisión...\")\n",
    "    param_dt = {\n",
    "        'max_depth': [None, 5, 10],\n",
    "        'min_samples_split': [2, 5],\n",
    "        'min_samples_leaf': [1, 2],\n",
    "        'criterion': ['gini', 'entropy']\n",
    "    }\n",
    "    modelo_dt, _, _ = entrenar_gridsearch(\n",
    "        DecisionTreeClassifier(random_state=42), param_dt, X_train, y_train\n",
    "    )\n",
    "    report_dt, _ = evaluar_modelo(modelo_dt, X_test, y_test, le, 'Árbol de Decisión')\n",
    "\n",
    "    # Random Forest\n",
    "    print(\"\\n🌲 Entrenando Random Forest...\")\n",
    "    param_rf = {\n",
    "        'n_estimators': [100, 200],\n",
    "        'max_depth': [None, 10],\n",
    "        'min_samples_split': [2, 5],\n",
    "        'min_samples_leaf': [1, 2],\n",
    "        'criterion': ['gini', 'entropy']\n",
    "    }\n",
    "    modelo_rf, _, _ = entrenar_gridsearch(\n",
    "        RandomForestClassifier(random_state=42), param_rf, X_train, y_train\n",
    "    )\n",
    "    report_rf, _ = evaluar_modelo(modelo_rf, X_test, y_test, le, 'Random Forest')\n",
    "\n",
    "    # Comparación\n",
    "    print(\"\\n📈 Comparación de Modelos:\")\n",
    "    comparar_modelos(report_dt, report_rf)\n",
    "\n",
    "\n",
    "if __name__ == \"__main__\":\n",
    "    main()"
   ]
  },
  {
   "cell_type": "code",
   "execution_count": null,
   "id": "42b4e0e4-da95-448b-a5b2-f1db0c7b671e",
   "metadata": {},
   "outputs": [],
   "source": []
  }
 ],
 "metadata": {
  "kernelspec": {
   "display_name": "Python 3 (ipykernel)",
   "language": "python",
   "name": "python3"
  },
  "language_info": {
   "codemirror_mode": {
    "name": "ipython",
    "version": 3
   },
   "file_extension": ".py",
   "mimetype": "text/x-python",
   "name": "python",
   "nbconvert_exporter": "python",
   "pygments_lexer": "ipython3",
   "version": "3.12.3"
  }
 },
 "nbformat": 4,
 "nbformat_minor": 5
}
