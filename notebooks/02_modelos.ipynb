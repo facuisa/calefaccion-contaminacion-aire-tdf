{
 "cells": [
  {
   "cell_type": "code",
   "execution_count": null,
   "id": "7dd86571-e2ab-439d-8e94-1a4033442389",
   "metadata": {},
   "outputs": [],
   "source": [
    "import sys\n",
    "import os\n",
    "\n",
    "src_path = os.path.abspath(os.path.join('..', 'src'))\n",
    "if src_path not in sys.path:\n",
    "    sys.path.append(src_path)"
   ]
  },
  {
   "cell_type": "code",
   "execution_count": null,
   "id": "eea4e633-2a5d-419c-b62f-51d079dd87b9",
   "metadata": {},
   "outputs": [],
   "source": [
    "from models.training import entrenar_modelos"
   ]
  },
  {
   "cell_type": "code",
   "execution_count": null,
   "id": "29a29f6d-cc2c-46b1-b8a9-2c4565467c53",
   "metadata": {},
   "outputs": [],
   "source": [
    "# 🔹 IMPORTAMOS funciones\n",
    "from data.processing import procesar_contaminante, procesar_meteorologia, unir_datasets\n",
    "\n",
    "# CARGAMOS LOS DATOS CRUDOS\n",
    "import pandas as pd\n",
    "df_pm10 = pd.read_csv('../data/raw/pm 10 coyhaique (extended).csv', sep=';', encoding='latin1', engine='python')\n",
    "df_pm25 = pd.read_csv('../data/raw/pm 2.5 coyhaique.csv', sep=';')\n",
    "df_co = pd.read_csv('../data/raw/CO coyhaique.csv', sep=';')\n",
    "df_so2 = pd.read_csv('../data/raw/SO2 coyahique.csv', sep=';')\n",
    "df_meteo = pd.read_csv('../data/raw/export (extended).csv')\n",
    "df_umbrales = pd.read_csv('../data/raw/umbrales_pm10.csv', sep=';')\n",
    "\n",
    "# PROCESAMOS Y UNIMOS\n",
    "df_pm10 = procesar_contaminante(df_pm10, 'PM10')\n",
    "df_pm25 = procesar_contaminante(df_pm25, 'PM2.5')\n",
    "df_co = procesar_contaminante(df_co, 'CO', decimal_coma=True)\n",
    "df_so2 = procesar_contaminante(df_so2, 'SO2')\n",
    "df_meteo = procesar_meteorologia(df_meteo)\n",
    "df_total = unir_datasets(df_pm10, df_pm25, df_co, df_so2, df_meteo, df_umbrales)"
   ]
  },
  {
   "cell_type": "code",
   "execution_count": null,
   "id": "fb80e824-8ca9-41c8-bd6c-0d899cf77a10",
   "metadata": {},
   "outputs": [],
   "source": [
    "\n",
    "# ENTRENAR LOS MODELOS\n",
    "dt_model, rf_model, resultados = entrenar_modelos(df_total)\n",
    "\n",
    "# VER RESULTADOS\n",
    "print(\"Accuracy Árbol de Decisión:\", resultados['accuracy_dt'])\n",
    "print(\"Accuracy Random Forest:\", resultados['accuracy_rf'])\n",
    "\n",
    "# Matriz de confusión y F1 por clase\n",
    "import seaborn as sns\n",
    "import matplotlib.pyplot as plt\n",
    "\n",
    "conf = resultados['confusion_rf']\n",
    "etiquetas = resultados['label_encoder'].classes_\n",
    "\n",
    "sns.heatmap(conf, annot=True, fmt='d', cmap='Blues', xticklabels=etiquetas, yticklabels=etiquetas)\n",
    "plt.title(\"Matriz de Confusión - Random Forest\")\n",
    "plt.xlabel(\"Predicho\")\n",
    "plt.ylabel(\"Real\")\n",
    "plt.tight_layout()\n",
    "plt.show()\n"
   ]
  },
  {
   "cell_type": "code",
   "execution_count": null,
   "id": "dbfd3760-68df-46d6-9ad4-05cd500c9277",
   "metadata": {},
   "outputs": [],
   "source": [
    "from models.training import entrenar_modelos\n",
    "dt_model, rf_model, resultados = entrenar_modelos(df_total)\n"
   ]
  },
  {
   "cell_type": "code",
   "execution_count": null,
   "id": "9b9ef4b5-21ab-4978-8f31-1295799169ae",
   "metadata": {},
   "outputs": [],
   "source": [
    "from sklearn.metrics import classification_report, f1_score\n",
    "\n",
    "y_true = resultados['y_test']\n",
    "y_pred = resultados['y_pred_rf']\n",
    "\n",
    "print(classification_report(y_true, y_pred, target_names=resultados['label_encoder'].classes_))\n",
    "print(\"F1-score (ponderado):\", f1_score(y_true, y_pred, average='weighted'))"
   ]
  },
  {
   "cell_type": "code",
   "execution_count": null,
   "id": "9bcc23e7-6cf1-45eb-b69a-75087baa8f91",
   "metadata": {},
   "outputs": [],
   "source": [
    "import joblib\n",
    "\n",
    "# Guardar modelo entrenado\n",
    "joblib.dump(rf_model, '../models/random_forest_model.pkl')\n",
    "joblib.dump(dt_model, '../models/decision_tree_model.pkl')"
   ]
  },
  {
   "cell_type": "code",
   "execution_count": null,
   "id": "079419c0-29dc-4ac7-8c8d-c1a74a47736c",
   "metadata": {},
   "outputs": [],
   "source": [
    "import json\n",
    "\n",
    "metricas = {\n",
    "    \"accuracy_dt\": resultados['accuracy_dt'],\n",
    "    \"accuracy_rf\": resultados['accuracy_rf'],\n",
    "    \"f1_score_rf\": resultados['f1_rf']\n",
    "}\n",
    "\n",
    "with open('../reports/metricas_modelo.json', 'w') as f:\n",
    "    json.dump(metricas, f, indent=4)"
   ]
  },
  {
   "cell_type": "code",
   "execution_count": null,
   "id": "2653da5d-1ebf-49b8-8761-98a2ee8a87fb",
   "metadata": {},
   "outputs": [],
   "source": []
  }
 ],
 "metadata": {
  "kernelspec": {
   "display_name": "Python 3 (ipykernel)",
   "language": "python",
   "name": "python3"
  },
  "language_info": {
   "codemirror_mode": {
    "name": "ipython",
    "version": 3
   },
   "file_extension": ".py",
   "mimetype": "text/x-python",
   "name": "python",
   "nbconvert_exporter": "python",
   "pygments_lexer": "ipython3",
   "version": "3.12.3"
  }
 },
 "nbformat": 4,
 "nbformat_minor": 5
}
