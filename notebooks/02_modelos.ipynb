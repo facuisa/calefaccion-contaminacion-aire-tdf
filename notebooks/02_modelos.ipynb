{
 "cells": [
  {
   "cell_type": "code",
   "execution_count": 25,
   "id": "7dd86571-e2ab-439d-8e94-1a4033442389",
   "metadata": {},
   "outputs": [],
   "source": [
    "import sys\n",
    "import os\n",
    "\n",
    "src_path = os.path.abspath(os.path.join('..', 'src'))\n",
    "if src_path not in sys.path:\n",
    "    sys.path.append(src_path)"
   ]
  },
  {
   "cell_type": "code",
   "execution_count": 26,
   "id": "eea4e633-2a5d-419c-b62f-51d079dd87b9",
   "metadata": {},
   "outputs": [],
   "source": [
    "from models.training import entrenar_modelos"
   ]
  },
  {
   "cell_type": "code",
   "execution_count": 27,
   "id": "29a29f6d-cc2c-46b1-b8a9-2c4565467c53",
   "metadata": {},
   "outputs": [],
   "source": [
    "# 🔹 IMPORTAMOS funciones\n",
    "from data.processing import procesar_contaminante, procesar_meteorologia, unir_datasets\n",
    "\n",
    "# CARGAMOS LOS DATOS CRUDOS\n",
    "import pandas as pd\n",
    "df_pm10 = pd.read_csv('../data/raw/pm 10 coyhaique (extended).csv', sep=';', encoding='latin1', engine='python')\n",
    "df_pm25 = pd.read_csv('../data/raw/pm 2.5 coyhaique.csv', sep=';')\n",
    "df_co = pd.read_csv('../data/raw/CO coyhaique.csv', sep=';')\n",
    "df_so2 = pd.read_csv('../data/raw/SO2 coyahique.csv', sep=';')\n",
    "df_meteo = pd.read_csv('../data/raw/export (extended).csv')\n",
    "df_umbrales = pd.read_csv('../data/raw/umbrales_pm10.csv', sep=';')\n",
    "\n",
    "# PROCESAMOS Y UNIMOS\n",
    "df_pm10 = procesar_contaminante(df_pm10, 'PM10')\n",
    "df_pm25 = procesar_contaminante(df_pm25, 'PM2.5')\n",
    "df_co = procesar_contaminante(df_co, 'CO', decimal_coma=True)\n",
    "df_so2 = procesar_contaminante(df_so2, 'SO2')\n",
    "df_meteo = procesar_meteorologia(df_meteo)\n",
    "df_total = unir_datasets(df_pm10, df_pm25, df_co, df_so2, df_meteo, df_umbrales)"
   ]
  },
  {
   "cell_type": "code",
   "execution_count": 28,
   "id": "fb80e824-8ca9-41c8-bd6c-0d899cf77a10",
   "metadata": {},
   "outputs": [
    {
     "name": "stdout",
     "output_type": "stream",
     "text": [
      "Accuracy Árbol de Decisión: 0.9811320754716981\n",
      "Accuracy Random Forest: 0.9803773584905661\n"
     ]
    },
    {
     "data": {
      "image/png": "[encoded data removed]",
      "text/plain": [
       "<Figure size 640x480 with 2 Axes>"
      ]
     },
     "metadata": {},
     "output_type": "display_data"
    }
   ],
   "source": [
    "\n",
    "# ENTRENAR LOS MODELOS\n",
    "dt_model, rf_model, resultados = entrenar_modelos(df_total)\n",
    "\n",
    "# VER RESULTADOS\n",
    "print(\"Accuracy Árbol de Decisión:\", resultados['accuracy_dt'])\n",
    "print(\"Accuracy Random Forest:\", resultados['accuracy_rf'])\n",
    "\n",
    "# Matriz de confusión y F1 por clase\n",
    "import seaborn as sns\n",
    "import matplotlib.pyplot as plt\n",
    "\n",
    "conf = resultados['confusion_rf']\n",
    "etiquetas = resultados['label_encoder'].classes_\n",
    "\n",
    "sns.heatmap(conf, annot=True, fmt='d', cmap='Blues', xticklabels=etiquetas, yticklabels=etiquetas)\n",
    "plt.title(\"Matriz de Confusión - Random Forest\")\n",
    "plt.xlabel(\"Predicho\")\n",
    "plt.ylabel(\"Real\")\n",
    "plt.tight_layout()\n",
    "plt.show()\n"
   ]
  },
  {
   "cell_type": "code",
   "execution_count": 29,
   "id": "dbfd3760-68df-46d6-9ad4-05cd500c9277",
   "metadata": {},
   "outputs": [
    {
     "ename": "KeyError",
     "evalue": "'y_test'",
     "output_type": "error",
     "traceback": [
      "\u001b[1;31m---------------------------------------------------------------------------\u001b[0m",
      "\u001b[1;31mKeyError\u001b[0m                                  Traceback (most recent call last)",
      "Cell \u001b[1;32mIn[29], line 3\u001b[0m\n\u001b[0;32m      1\u001b[0m \u001b[38;5;28;01mfrom\u001b[39;00m \u001b[38;5;21;01msklearn\u001b[39;00m\u001b[38;5;21;01m.\u001b[39;00m\u001b[38;5;21;01mmetrics\u001b[39;00m \u001b[38;5;28;01mimport\u001b[39;00m classification_report\n\u001b[1;32m----> 3\u001b[0m y_true \u001b[38;5;241m=\u001b[39m \u001b[43mresultados\u001b[49m\u001b[43m[\u001b[49m\u001b[38;5;124;43m'\u001b[39;49m\u001b[38;5;124;43my_test\u001b[39;49m\u001b[38;5;124;43m'\u001b[39;49m\u001b[43m]\u001b[49m\n\u001b[0;32m      4\u001b[0m y_pred \u001b[38;5;241m=\u001b[39m resultados[\u001b[38;5;124m'\u001b[39m\u001b[38;5;124my_pred_rf\u001b[39m\u001b[38;5;124m'\u001b[39m]\n\u001b[0;32m      6\u001b[0m \u001b[38;5;66;03m# Reporte completo\u001b[39;00m\n",
      "\u001b[1;31mKeyError\u001b[0m: 'y_test'"
     ]
    }
   ],
   "source": [
    "from sklearn.metrics import classification_report\n",
    "\n",
    "y_true = resultados['y_test']\n",
    "y_pred = resultados['y_pred_rf']\n",
    "\n",
    "# Reporte completo\n",
    "print(classification_report(y_true, y_pred, target_names=resultados['label_encoder'].classes_))\n",
    "\n",
    "# Obtener f1-score promedio ponderado (opcional para guardar)\n",
    "from sklearn.metrics import f1_score\n",
    "f1_rf = f1_score(y_true, y_pred, average='weighted')\n",
    "print(\"F1-score (ponderado):\", f1_rf)\n"
   ]
  },
  {
   "cell_type": "code",
   "execution_count": 14,
   "id": "9b9ef4b5-21ab-4978-8f31-1295799169ae",
   "metadata": {},
   "outputs": [],
   "source": [
    "dt_model, rf_model, resultados = entrenar_modelos(df_total)"
   ]
  },
  {
   "cell_type": "code",
   "execution_count": 15,
   "id": "9bcc23e7-6cf1-45eb-b69a-75087baa8f91",
   "metadata": {},
   "outputs": [
    {
     "data": {
      "text/plain": [
       "['../models/decision_tree_model.pkl']"
      ]
     },
     "execution_count": 15,
     "metadata": {},
     "output_type": "execute_result"
    }
   ],
   "source": [
    "import joblib\n",
    "\n",
    "# Guardar modelo entrenado\n",
    "joblib.dump(rf_model, '../models/random_forest_model.pkl')\n",
    "joblib.dump(dt_model, '../models/decision_tree_model.pkl')"
   ]
  },
  {
   "cell_type": "code",
   "execution_count": 16,
   "id": "079419c0-29dc-4ac7-8c8d-c1a74a47736c",
   "metadata": {},
   "outputs": [
    {
     "ename": "KeyError",
     "evalue": "'f1_rf'",
     "output_type": "error",
     "traceback": [
      "\u001b[1;31m---------------------------------------------------------------------------\u001b[0m",
      "\u001b[1;31mKeyError\u001b[0m                                  Traceback (most recent call last)",
      "Cell \u001b[1;32mIn[16], line 6\u001b[0m\n\u001b[0;32m      1\u001b[0m \u001b[38;5;28;01mimport\u001b[39;00m \u001b[38;5;21;01mjson\u001b[39;00m\n\u001b[0;32m      3\u001b[0m metricas \u001b[38;5;241m=\u001b[39m {\n\u001b[0;32m      4\u001b[0m     \u001b[38;5;124m\"\u001b[39m\u001b[38;5;124maccuracy_dt\u001b[39m\u001b[38;5;124m\"\u001b[39m: resultados[\u001b[38;5;124m'\u001b[39m\u001b[38;5;124maccuracy_dt\u001b[39m\u001b[38;5;124m'\u001b[39m],\n\u001b[0;32m      5\u001b[0m     \u001b[38;5;124m\"\u001b[39m\u001b[38;5;124maccuracy_rf\u001b[39m\u001b[38;5;124m\"\u001b[39m: resultados[\u001b[38;5;124m'\u001b[39m\u001b[38;5;124maccuracy_rf\u001b[39m\u001b[38;5;124m'\u001b[39m],\n\u001b[1;32m----> 6\u001b[0m     \u001b[38;5;124m\"\u001b[39m\u001b[38;5;124mf1_score_rf\u001b[39m\u001b[38;5;124m\"\u001b[39m: \u001b[43mresultados\u001b[49m\u001b[43m[\u001b[49m\u001b[38;5;124;43m'\u001b[39;49m\u001b[38;5;124;43mf1_rf\u001b[39;49m\u001b[38;5;124;43m'\u001b[39;49m\u001b[43m]\u001b[49m\n\u001b[0;32m      7\u001b[0m }\n\u001b[0;32m      9\u001b[0m \u001b[38;5;28;01mwith\u001b[39;00m \u001b[38;5;28mopen\u001b[39m(\u001b[38;5;124m'\u001b[39m\u001b[38;5;124m../reports/metricas_modelo.json\u001b[39m\u001b[38;5;124m'\u001b[39m, \u001b[38;5;124m'\u001b[39m\u001b[38;5;124mw\u001b[39m\u001b[38;5;124m'\u001b[39m) \u001b[38;5;28;01mas\u001b[39;00m f:\n\u001b[0;32m     10\u001b[0m     json\u001b[38;5;241m.\u001b[39mdump(metricas, f, indent\u001b[38;5;241m=\u001b[39m\u001b[38;5;241m4\u001b[39m)\n",
      "\u001b[1;31mKeyError\u001b[0m: 'f1_rf'"
     ]
    }
   ],
   "source": [
    "import json\n",
    "\n",
    "metricas = {\n",
    "    \"accuracy_dt\": resultados['accuracy_dt'],\n",
    "    \"accuracy_rf\": resultados['accuracy_rf'],\n",
    "    \"f1_score_rf\": resultados['f1_rf']\n",
    "}\n",
    "\n",
    "with open('../reports/metricas_modelo.json', 'w') as f:\n",
    "    json.dump(metricas, f, indent=4)"
   ]
  },
  {
   "cell_type": "code",
   "execution_count": null,
   "id": "2653da5d-1ebf-49b8-8761-98a2ee8a87fb",
   "metadata": {},
   "outputs": [],
   "source": []
  }
 ],
 "metadata": {
  "kernelspec": {
   "display_name": "Python 3 (ipykernel)",
   "language": "python",
   "name": "python3"
  },
  "language_info": {
   "codemirror_mode": {
    "name": "ipython",
    "version": 3
   },
   "file_extension": ".py",
   "mimetype": "text/x-python",
   "name": "python",
   "nbconvert_exporter": "python",
   "pygments_lexer": "ipython3",
   "version": "3.12.3"
  }
 },
 "nbformat": 4,
 "nbformat_minor": 5
}
